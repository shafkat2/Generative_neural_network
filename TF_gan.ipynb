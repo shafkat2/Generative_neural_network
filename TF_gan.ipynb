{
  "nbformat": 4,
  "nbformat_minor": 0,
  "metadata": {
    "colab": {
      "name": "TF_gan.ipynb",
      "version": "0.3.2",
      "provenance": [],
      "collapsed_sections": [],
      "include_colab_link": true
    },
    "kernelspec": {
      "name": "python3",
      "display_name": "Python 3"
    },
    "accelerator": "TPU"
  },
  "cells": [
    {
      "cell_type": "markdown",
      "metadata": {
        "id": "view-in-github",
        "colab_type": "text"
      },
      "source": [
        "<a href=\"https://colab.research.google.com/github/shafkat2/Generative_neural_network/blob/master/TF_gan.ipynb\" target=\"_parent\"><img src=\"https://colab.research.google.com/assets/colab-badge.svg\" alt=\"Open In Colab\"/></a>"
      ]
    },
    {
      "metadata": {
        "id": "OEpwun6dWW8E",
        "colab_type": "code",
        "outputId": "846cfddf-5955-491a-de79-37ceddb67e18",
        "colab": {
          "base_uri": "https://localhost:8080/",
          "height": 34
        }
      },
      "cell_type": "code",
      "source": [
        "from google.colab import drive\n",
        "drive.mount('/content/drive/')\n"
      ],
      "execution_count": 0,
      "outputs": [
        {
          "output_type": "stream",
          "text": [
            "Drive already mounted at /content/drive/; to attempt to forcibly remount, call drive.mount(\"/content/drive/\", force_remount=True).\n"
          ],
          "name": "stdout"
        }
      ]
    },
    {
      "metadata": {
        "id": "e9KQOO13LbWu",
        "colab_type": "text"
      },
      "cell_type": "markdown",
      "source": [
        "***Imports***"
      ]
    },
    {
      "metadata": {
        "id": "p_T8LbHwcVQ8",
        "colab_type": "code",
        "outputId": "4977e0d1-df20-4ee2-a6c7-f40cfd62e9a4",
        "colab": {
          "base_uri": "https://localhost:8080/",
          "height": 34
        }
      },
      "cell_type": "code",
      "source": [
        "\n",
        "import numpy as np\n",
        "import tensorflow as tf\n",
        "import matplotlib.pyplot as plt\n",
        "from sklearn.utils import shuffle\n",
        "import pandas as pd\n",
        "import seaborn as sns\n",
        "from sklearn.model_selection import train_test_split\n",
        "from sklearn import preprocessing\n",
        "!pip install xlrd\n",
        "#!pip install tensorflow-gpu\n"
      ],
      "execution_count": 0,
      "outputs": [
        {
          "output_type": "stream",
          "text": [
            "Requirement already satisfied: xlrd in /usr/local/lib/python3.6/dist-packages (1.1.0)\n"
          ],
          "name": "stdout"
        }
      ]
    },
    {
      "metadata": {
        "id": "83JrC_0SK6Le",
        "colab_type": "code",
        "colab": {}
      },
      "cell_type": "code",
      "source": [
        "#!docker pull tensorflow/tensorflow   "
      ],
      "execution_count": 0,
      "outputs": []
    },
    {
      "metadata": {
        "id": "2yaMOXecPgFg",
        "colab_type": "code",
        "colab": {}
      },
      "cell_type": "code",
      "source": [
        "#!ls \"/content/drive/My Drive/Machine_Learning/CSE499VTS/\"\\\n",
        "#!ls \"/content/drive/My Drive/CSE499.A\""
      ],
      "execution_count": 0,
      "outputs": []
    },
    {
      "metadata": {
        "id": "4Vt8Lj9wLeWx",
        "colab_type": "text"
      },
      "cell_type": "markdown",
      "source": [
        "***Data Preprocessing Part1***"
      ]
    },
    {
      "metadata": {
        "id": "5-C2-rDwLFn6",
        "colab_type": "code",
        "outputId": "b65ef506-9844-45ff-8e39-af04473c06b7",
        "colab": {
          "base_uri": "https://localhost:8080/",
          "height": 34
        }
      },
      "cell_type": "code",
      "source": [
        "df = pd.read_excel('/content/drive/My Drive/Machine_Learning/CSE499VTS/data_test_2.xlsx',sheet_name = \"Device Log Data\",index = False)\n",
        "dt = pd.read_excel('/content/drive/My Drive/Machine_Learning/CSE499VTS/data_test_3.xlsx',sheet_name = \"Device Log Data\",index = False)\n",
        "#df = pd.read_csv('/content/drive/My Drive/CSE499.A/onlyADC.csv')\n",
        "print(dt.shape)\n"
      ],
      "execution_count": 0,
      "outputs": [
        {
          "output_type": "stream",
          "text": [
            "(14047, 22)\n"
          ],
          "name": "stdout"
        }
      ]
    },
    {
      "metadata": {
        "id": "DS1mW06PRWsX",
        "colab_type": "code",
        "outputId": "5a9e442e-7c5e-4cc3-e1ee-e099abf736a2",
        "colab": {
          "base_uri": "https://localhost:8080/",
          "height": 364
        }
      },
      "cell_type": "code",
      "source": [
        "dp = df[['fuel_litre']].astype(float)\n",
        "dt = dt[['fuel_litre']].astype(float)\n",
        "dp = dp.append(dt, ignore_index=True)\n",
        "#dp.reset_index(drop=True, inplace=True)\n",
        "dp = dp[dp.fuel_litre != 0]\n",
        "sns.distplot(dp,bins=30)\n",
        "dp.shape"
      ],
      "execution_count": 0,
      "outputs": [
        {
          "output_type": "execute_result",
          "data": {
            "text/plain": [
              "(24641, 1)"
            ]
          },
          "metadata": {
            "tags": []
          },
          "execution_count": 6
        },
        {
          "output_type": "display_data",
          "data": {
            "image/png": "[encoded data removed]",
            "text/plain": [
              "<matplotlib.figure.Figure at 0x7fa118582198>"
            ]
          },
          "metadata": {
            "tags": []
          }
        }
      ]
    },
    {
      "metadata": {
        "id": "wTTC2JTVynVU",
        "colab_type": "text"
      },
      "cell_type": "markdown",
      "source": [
        "***Train Test Split***"
      ]
    },
    {
      "metadata": {
        "id": "E6y85FstbLwu",
        "colab_type": "code",
        "colab": {}
      },
      "cell_type": "code",
      "source": [
        "\n",
        "X_train, X_test = train_test_split( dp,test_size=0.09,shuffle = False)\n",
        "\n",
        "#X_train.reset_index(drop=True, inplace=True)\n",
        "#X_test.reset_index(drop = True , inplace = True)\n",
        "\n",
        "#noise_train = np.random.normal(0,5,[22423,1])\n",
        "#noise_train = noise_train + X_train\n",
        "noise_train = X_train\n",
        "#noise_test = np.random.normal(0,10,[2218,1])\n",
        "#noise_test = noise_test + X_test\n",
        "noise_test =  X_test\n",
        "\n",
        "\n",
        "# Create a minimum and maximum processor object\n",
        "min_max_scaler = preprocessing.MinMaxScaler()\n",
        "\n",
        "# Create an object to transform the data to fit minmax processor\n",
        "#x_scaled = min_max_scaler.fit_transform(dp)\n",
        "\n",
        "# Run the normalizer on the dataframe\n",
        "#df_normalized = pd.DataFrame(x_scaled)"
      ],
      "execution_count": 0,
      "outputs": []
    },
    {
      "metadata": {
        "id": "OQKGcfawqMel",
        "colab_type": "code",
        "outputId": "1a8588d1-1939-4c24-936c-422641ff0169",
        "colab": {
          "base_uri": "https://localhost:8080/",
          "height": 364
        }
      },
      "cell_type": "code",
      "source": [
        "X_test.head()\n",
        "plt.scatter(X_test[\"fuel_litre\"], X_test.index)"
      ],
      "execution_count": 0,
      "outputs": [
        {
          "output_type": "execute_result",
          "data": {
            "text/plain": [
              "<matplotlib.collections.PathCollection at 0x7fa1180c00f0>"
            ]
          },
          "metadata": {
            "tags": []
          },
          "execution_count": 8
        },
        {
          "output_type": "display_data",
          "data": {
            "image/png": "[encoded data removed]",
            "text/plain": [
              "<matplotlib.figure.Figure at 0x7fa13fb7ceb8>"
            ]
          },
          "metadata": {
            "tags": []
          }
        }
      ]
    },
    {
      "metadata": {
        "id": "TQAm_mdvT0uA",
        "colab_type": "code",
        "outputId": "e5cd46d9-b565-459d-9a43-68019beb35e0",
        "colab": {
          "base_uri": "https://localhost:8080/",
          "height": 347
        }
      },
      "cell_type": "code",
      "source": [
        "dt = df[['fuel_litre']]  \n",
        "t = X_test.index\n",
        "s = X_test.values\n",
        "line, = plt.plot(t, s, lw=0.5)\n",
        "\n"
      ],
      "execution_count": 0,
      "outputs": [
        {
          "output_type": "display_data",
          "data": {
            "image/png": "[encoded data removed]",
            "text/plain": [
              "<matplotlib.figure.Figure at 0x7fa14b2656a0>"
            ]
          },
          "metadata": {
            "tags": []
          }
        }
      ]
    },
    {
      "metadata": {
        "id": "smPySCYEMEDO",
        "colab_type": "code",
        "outputId": "d17feff3-4aba-4946-fb56-8b3f93bc0e05",
        "colab": {
          "base_uri": "https://localhost:8080/",
          "height": 364
        }
      },
      "cell_type": "code",
      "source": [
        "sns.distplot(X_test,bins=30)"
      ],
      "execution_count": 0,
      "outputs": [
        {
          "output_type": "execute_result",
          "data": {
            "text/plain": [
              "<matplotlib.axes._subplots.AxesSubplot at 0x7fa117a7d358>"
            ]
          },
          "metadata": {
            "tags": []
          },
          "execution_count": 10
        },
        {
          "output_type": "display_data",
          "data": {
            "image/png": "[encoded data removed]",
            "text/plain": [
              "<matplotlib.figure.Figure at 0x7fa11887bfd0>"
            ]
          },
          "metadata": {
            "tags": []
          }
        }
      ]
    },
    {
      "metadata": {
        "id": "BYBatOTIyR0A",
        "colab_type": "text"
      },
      "cell_type": "markdown",
      "source": [
        "***MinMaxScaler(Data Preprocessing)***"
      ]
    },
    {
      "metadata": {
        "id": "pLLXsGGuup9f",
        "colab_type": "code",
        "colab": {}
      },
      "cell_type": "code",
      "source": [
        "def  minMaxScaler(Df):\n",
        "  # Create a minimum and maximum processor object\n",
        "  min_max_scaler = preprocessing.MinMaxScaler()\n",
        "  x_scaled = min_max_scaler.fit_transform(Df)\n",
        "  df_normalized = pd.DataFrame(x_scaled)\n",
        "  return df_normalized"
      ],
      "execution_count": 0,
      "outputs": []
    },
    {
      "metadata": {
        "id": "BYmCoJejhqkG",
        "colab_type": "code",
        "outputId": "d7959264-ed62-4edc-94e2-a3e1778044ed",
        "colab": {
          "base_uri": "https://localhost:8080/",
          "height": 347
        }
      },
      "cell_type": "code",
      "source": [
        "\n",
        "\n",
        "# Run the normalizer on the dataframe\n",
        "df_normalized_train = minMaxScaler(X_train)\n",
        "sns.distplot(df_normalized_train,bins=30)\n",
        "count_row =  df_normalized_train.shape[0]\n",
        "\n",
        "\n"
      ],
      "execution_count": 0,
      "outputs": [
        {
          "output_type": "display_data",
          "data": {
            "image/png": "[encoded data removed]",
            "text/plain": [
              "<matplotlib.figure.Figure at 0x7fa117cebf28>"
            ]
          },
          "metadata": {
            "tags": []
          }
        }
      ]
    },
    {
      "metadata": {
        "id": "to3PJzInxnVm",
        "colab_type": "code",
        "outputId": "e70d644f-c154-44ff-fd2b-4545bc6c7876",
        "colab": {
          "base_uri": "https://localhost:8080/",
          "height": 364
        }
      },
      "cell_type": "code",
      "source": [
        "df_normalized_train_noise = minMaxScaler(noise_train)\n",
        "sns.distplot(df_normalized_train_noise,bins=30)\n",
        "\n",
        "\n"
      ],
      "execution_count": 0,
      "outputs": [
        {
          "output_type": "execute_result",
          "data": {
            "text/plain": [
              "<matplotlib.axes._subplots.AxesSubplot at 0x7fa11844e5f8>"
            ]
          },
          "metadata": {
            "tags": []
          },
          "execution_count": 13
        },
        {
          "output_type": "display_data",
          "data": {
            "image/png": "[encoded data removed]",
            "text/plain": [
              "<matplotlib.figure.Figure at 0x7fa118134550>"
            ]
          },
          "metadata": {
            "tags": []
          }
        }
      ]
    },
    {
      "metadata": {
        "id": "slQBRBkExpS2",
        "colab_type": "code",
        "outputId": "4a197680-7caa-4a73-f388-d50194bb6375",
        "colab": {
          "base_uri": "https://localhost:8080/",
          "height": 364
        }
      },
      "cell_type": "code",
      "source": [
        "\n",
        "\n",
        "df_normalized_test_noise = minMaxScaler(noise_test)\n",
        "sns.distplot(df_normalized_test_noise,bins=30)\n"
      ],
      "execution_count": 0,
      "outputs": [
        {
          "output_type": "execute_result",
          "data": {
            "text/plain": [
              "<matplotlib.axes._subplots.AxesSubplot at 0x7fa117bd8278>"
            ]
          },
          "metadata": {
            "tags": []
          },
          "execution_count": 14
        },
        {
          "output_type": "display_data",
          "data": {
            "image/png": "[encoded data removed]",
            "text/plain": [
              "<matplotlib.figure.Figure at 0x7fa117afc978>"
            ]
          },
          "metadata": {
            "tags": []
          }
        }
      ]
    },
    {
      "metadata": {
        "id": "3KUJwhpSw-9a",
        "colab_type": "text"
      },
      "cell_type": "markdown",
      "source": [
        "***Data Preprocessing Part 2***"
      ]
    },
    {
      "metadata": {
        "id": "FAm5sgGw1oh1",
        "colab_type": "code",
        "colab": {}
      },
      "cell_type": "code",
      "source": [
        "#ds = pd.DataFrame(np.random.randint(-3,2,size=(1218, 1)), columns=list('A'))\n",
        "#ds = ds['A'].astype(float)\n",
        "#ds = ds.values.reshape(1218,1)\n",
        "#ds"
      ],
      "execution_count": 0,
      "outputs": []
    },
    {
      "metadata": {
        "id": "wqlLHxog5yEy",
        "colab_type": "code",
        "colab": {}
      },
      "cell_type": "code",
      "source": [
        "#sns.distplot(ds,bins=30)"
      ],
      "execution_count": 0,
      "outputs": []
    },
    {
      "metadata": {
        "id": "Gxb43q-F-I2W",
        "colab_type": "code",
        "colab": {}
      },
      "cell_type": "code",
      "source": [
        ""
      ],
      "execution_count": 0,
      "outputs": []
    },
    {
      "metadata": {
        "id": "ZcGAIo0tl-93",
        "colab_type": "text"
      },
      "cell_type": "markdown",
      "source": [
        "***Generator***"
      ]
    },
    {
      "metadata": {
        "id": "j8zrOzulck4n",
        "colab_type": "code",
        "colab": {}
      },
      "cell_type": "code",
      "source": [
        "def generator(z,reuse = None):\n",
        "  with tf.variable_scope('gen', reuse = reuse):\n",
        "    hidden1 = tf.layers.dense(inputs = z , units = 4)\n",
        "    hidden1= tf.nn.leaky_relu(hidden1,alpha = 0.01,name = None)\n",
        "    hidden2 = tf.layers.dense(inputs = hidden1, units =4)\n",
        "    hidden2 = tf.nn.leaky_relu(hidden2,alpha = 0.01,name = None)\n",
        "    hidden3= tf.layers.dense(inputs = hidden2, units =4)\n",
        "    hidden3= tf.nn.leaky_relu(hidden3,alpha = 0.01,name = None)\n",
        "    output = tf.layers.dense(hidden3,units = 1,activation = tf.nn.tanh)\n",
        "    \n",
        "    return output\n",
        "  \n",
        "    "
      ],
      "execution_count": 0,
      "outputs": []
    },
    {
      "metadata": {
        "id": "Cul-bXHkmCJv",
        "colab_type": "text"
      },
      "cell_type": "markdown",
      "source": [
        "***Discrminator***"
      ]
    },
    {
      "metadata": {
        "id": "pz7ZO9Ja8Slp",
        "colab_type": "code",
        "colab": {}
      },
      "cell_type": "code",
      "source": [
        "def discriminator(x,reuse = None):\n",
        "  with tf.variable_scope('dis', reuse = reuse):\n",
        "    hidden1 = tf.layers.dense(inputs = x , units = 4)\n",
        "    hidden1= tf.nn.leaky_relu(hidden1,alpha = 0.01,name = None)\n",
        "    hidden2 = tf.layers.dense(inputs = hidden1, units =4)\n",
        "    hidden2 = tf.nn.leaky_relu(hidden2,alpha = 0.01,name = None)\n",
        "    hidden3= tf.layers.dense(inputs = hidden2, units =4)\n",
        "    hidden3= tf.nn.leaky_relu(hidden3,alpha = 0.01,name = None)\n",
        "    \n",
        "    logits = tf.layers.dense(hidden3,units = 1)\n",
        "    output = tf.sigmoid(logits)\n",
        "    \n",
        "    return output,logits\n",
        "  "
      ],
      "execution_count": 0,
      "outputs": []
    },
    {
      "metadata": {
        "id": "2dRPrVZamWwO",
        "colab_type": "text"
      },
      "cell_type": "markdown",
      "source": [
        "***Dataplace holder***"
      ]
    },
    {
      "metadata": {
        "id": "pK5dNkvRJUN8",
        "colab_type": "code",
        "colab": {}
      },
      "cell_type": "code",
      "source": [
        "real_Fuel_data = tf.placeholder(tf.float64,shape=[None, 1])\n",
        "noisey_fuel_data = tf.placeholder(tf.float64,shape=[None, 1])\n"
      ],
      "execution_count": 0,
      "outputs": []
    },
    {
      "metadata": {
        "id": "kIzJkKA2m4iZ",
        "colab_type": "text"
      },
      "cell_type": "markdown",
      "source": [
        "***Calling generator and discriminator***"
      ]
    },
    {
      "metadata": {
        "id": "lnoUoHQFMGzg",
        "colab_type": "code",
        "colab": {}
      },
      "cell_type": "code",
      "source": [
        "gan_model = tfgan.gan_model(\n",
        "    generator_fn,\n",
        "    discriminator_fn,\n",
        "    real_data=real_Fuel_datas,\n",
        "    generator_inputs=tf.random_normal([batch_size, 1]))\n",
        "\n",
        "# Sanity check that generated images before training are garbage.\n",
        "check_generated_digits = tfgan.eval.image_reshaper(\n",
        "    gan_model.generated_data[:20,...], num_cols=10)\n",
        "visualize_digits(check_generated_digits)\n"
      ],
      "execution_count": 0,
      "outputs": []
    },
    {
      "metadata": {
        "id": "CdVgNaNiMLJV",
        "colab_type": "code",
        "colab": {}
      },
      "cell_type": "code",
      "source": [
        ""
      ],
      "execution_count": 0,
      "outputs": []
    },
    {
      "metadata": {
        "id": "MHqzr2SLPVm3",
        "colab_type": "code",
        "colab": {}
      },
      "cell_type": "code",
      "source": [
        ""
      ],
      "execution_count": 0,
      "outputs": []
    },
    {
      "metadata": {
        "id": "GKyLgSXvnI3X",
        "colab_type": "text"
      },
      "cell_type": "markdown",
      "source": [
        "***Loss Function***"
      ]
    },
    {
      "metadata": {
        "id": "uI4T0QDKQG8U",
        "colab_type": "code",
        "colab": {}
      },
      "cell_type": "code",
      "source": [
        "\n",
        "def loss_func(logits_in,labels_in):\n",
        "  return tf.reduce_mean(tf.nn.sigmoid_cross_entropy_with_logits(logits = logits_in,labels = labels_in))\n",
        "\n",
        "def wgan_loss(logits_real, logits_fake, batch_size,real_Fuel_data,G_sample):\n",
        "    d_loss =- tf.reduce_mean(logits_real) + tf.reduce_mean(logits_fake)\n",
        "    g_loss =- tf.reduce_mean(logits_fake)\n",
        "    \n",
        "    lam = 10\n",
        "    \n",
        "    eps = tf.random_uniform([batch_size,1], minval=0,maxval=1.0,dtype= tf.float64)\n",
        "    x_h = eps*real_Fuel_data+(1-eps)*G_sample\n",
        "    \n",
        "    with tf.variable_scope(\"\", reuse=True) as scope:\n",
        "        grad_d_x_h = tf.gradients(discriminator(x_h,reuse = True), x_h)\n",
        "    \n",
        "    grad_norm = tf.norm(grad_d_x_h[0], axis=1, ord='euclidean')\n",
        "    grad_pen = tf.reduce_mean(tf.square(grad_norm-1))\n",
        "    \n",
        "    d_loss+=lam*grad_pen\n",
        "    return d_loss, g_loss"
      ],
      "execution_count": 0,
      "outputs": []
    },
    {
      "metadata": {
        "id": "tWvooa-1Rg3v",
        "colab_type": "code",
        "colab": {}
      },
      "cell_type": "code",
      "source": [
        "d_loss, g_loss = wgan_loss(D_logits_real, D_logits_fake,50,real_Fuel_data,G)\n",
        "\n"
      ],
      "execution_count": 0,
      "outputs": []
    },
    {
      "metadata": {
        "id": "HbO_f-VKSyz-",
        "colab_type": "code",
        "colab": {}
      },
      "cell_type": "code",
      "source": [
        "D_loss = d_loss\n",
        "G_loss = g_loss"
      ],
      "execution_count": 0,
      "outputs": []
    },
    {
      "metadata": {
        "id": "d7GVkieTX5pF",
        "colab_type": "text"
      },
      "cell_type": "markdown",
      "source": [
        "***Accuracy***"
      ]
    },
    {
      "metadata": {
        "id": "Fj2bnUzjX7x9",
        "colab_type": "code",
        "colab": {}
      },
      "cell_type": "code",
      "source": [
        "#labels = tf.Variable(initial_value= X_test)\n",
        "#predictions = tf.placeholder(tf.float64,shape=[None, 1])\n"
      ],
      "execution_count": 0,
      "outputs": []
    },
    {
      "metadata": {
        "id": "8h4tGPLdnUwI",
        "colab_type": "text"
      },
      "cell_type": "markdown",
      "source": [
        "***Defining Variables***"
      ]
    },
    {
      "metadata": {
        "id": "NqdlZZJ5ULxC",
        "colab_type": "code",
        "colab": {}
      },
      "cell_type": "code",
      "source": [
        "learning_rate = 0.0001\n"
      ],
      "execution_count": 0,
      "outputs": []
    },
    {
      "metadata": {
        "id": "kj-Tqc9WYb90",
        "colab_type": "code",
        "outputId": "3f17a498-9ca4-4bc4-88be-0143aa5a8361",
        "colab": {
          "base_uri": "https://localhost:8080/",
          "height": 153
        }
      },
      "cell_type": "code",
      "source": [
        "tvars = tf.trainable_variables()\n",
        "\n",
        "d_vars = [var for var in tvars if 'dis' in var.name]\n",
        "g_vars = [var for var in tvars if 'gen' in var.name]\n",
        "\n",
        "d_vars"
      ],
      "execution_count": 0,
      "outputs": [
        {
          "output_type": "execute_result",
          "data": {
            "text/plain": [
              "[<tf.Variable 'dis/dense/kernel:0' shape=(1, 4) dtype=float64_ref>,\n",
              " <tf.Variable 'dis/dense/bias:0' shape=(4,) dtype=float64_ref>,\n",
              " <tf.Variable 'dis/dense_1/kernel:0' shape=(4, 4) dtype=float64_ref>,\n",
              " <tf.Variable 'dis/dense_1/bias:0' shape=(4,) dtype=float64_ref>,\n",
              " <tf.Variable 'dis/dense_2/kernel:0' shape=(4, 4) dtype=float64_ref>,\n",
              " <tf.Variable 'dis/dense_2/bias:0' shape=(4,) dtype=float64_ref>,\n",
              " <tf.Variable 'dis/dense_3/kernel:0' shape=(4, 1) dtype=float64_ref>,\n",
              " <tf.Variable 'dis/dense_3/bias:0' shape=(1,) dtype=float64_ref>]"
            ]
          },
          "metadata": {
            "tags": []
          },
          "execution_count": 27
        }
      ]
    },
    {
      "metadata": {
        "id": "PyvuT_1EZUUf",
        "colab_type": "code",
        "colab": {}
      },
      "cell_type": "code",
      "source": [
        "D_trainer = tf.train.AdamOptimizer(learning_rate).minimize(D_loss,var_list = d_vars)"
      ],
      "execution_count": 0,
      "outputs": []
    },
    {
      "metadata": {
        "id": "D-vLrECFUQ9-",
        "colab_type": "code",
        "colab": {}
      },
      "cell_type": "code",
      "source": [
        "G_trainer = tf.train.AdamOptimizer(learning_rate).minimize(G_loss,var_list = g_vars)"
      ],
      "execution_count": 0,
      "outputs": []
    },
    {
      "metadata": {
        "id": "IAPEnpa1ZzQK",
        "colab_type": "code",
        "colab": {}
      },
      "cell_type": "code",
      "source": [
        "batch_size = 50\n",
        "epochs = 150"
      ],
      "execution_count": 0,
      "outputs": []
    },
    {
      "metadata": {
        "id": "YvRbai_3fYAD",
        "colab_type": "code",
        "colab": {}
      },
      "cell_type": "code",
      "source": [
        ""
      ],
      "execution_count": 0,
      "outputs": []
    },
    {
      "metadata": {
        "id": "akYdZxeBfjEy",
        "colab_type": "code",
        "colab": {}
      },
      "cell_type": "code",
      "source": [
        "sample = []\n",
        "size1 = 0\n",
        "size2 = 50\n",
        "\n"
      ],
      "execution_count": 0,
      "outputs": []
    },
    {
      "metadata": {
        "id": "7Ec_TnfK7_ly",
        "colab_type": "code",
        "colab": {}
      },
      "cell_type": "code",
      "source": [
        "saver = tf.train.Saver()"
      ],
      "execution_count": 0,
      "outputs": []
    },
    {
      "metadata": {
        "id": "xJiE_sX-i2zn",
        "colab_type": "code",
        "colab": {}
      },
      "cell_type": "code",
      "source": [
        "init = tf.global_variables_initializer() "
      ],
      "execution_count": 0,
      "outputs": []
    },
    {
      "metadata": {
        "id": "KQMZ-rd2xM_e",
        "colab_type": "text"
      },
      "cell_type": "markdown",
      "source": [
        "***Training***"
      ]
    },
    {
      "metadata": {
        "id": "mjp9eo7XflqC",
        "colab_type": "code",
        "outputId": "a44e0db3-25ea-411a-f98b-7af87042ac9d",
        "colab": {
          "base_uri": "https://localhost:8080/",
          "height": 7667
        }
      },
      "cell_type": "code",
      "source": [
        "with tf.Session() as sess:\n",
        "  sess.run(init)\n",
        "  \n",
        "  \n",
        "  for epoch in range(epochs):\n",
        "    num_batches =int(round(count_row/batch_size)) \n",
        "    \n",
        "    \n",
        "    for i in range(num_batches):\n",
        "      \n",
        "      batch1 = df_normalized_train.iloc[size1:size2]\n",
        "      batch_data = batch1.values.reshape(batch_size,1)\n",
        "      \n",
        "      #batch2 = df_normalized_train_noise.sample(batch_size)\n",
        "      #batch_noise = batch2.values.reshape(batch_size,1)\n",
        "      if (size2 !=num_batches):\n",
        "         size1 = size1+50\n",
        "         size2 = size2+50\n",
        "      batch_noise = np.random.uniform(0,1,size=(batch_size,1))\n",
        "\n",
        "      \n",
        "      _, d_loss_curr =sess.run([D_trainer,D_loss],feed_dict={real_Fuel_data:batch_data,noisey_fuel_data:batch_noise})\n",
        "      _, g_loss_curr =sess.run([G_trainer,G_loss],feed_dict={noisey_fuel_data:batch_noise})\n",
        "      \n",
        "    size1 = 0\n",
        "    size2 = 50\n",
        "\n",
        "\n",
        "    print(\"on Epoch{}\".format(epoch))\n",
        "    print(\"on D_loss{:.6}\".format(d_loss_curr))\n",
        "    print(\"on G_loss{:.6}\".format(g_loss_curr))\n",
        "    #sess.run(tf.local_variables_initializer())\n",
        "    Sample_z = df_normalized_test_noise.values\n",
        "    gen_sample = sess.run(generator(noisey_fuel_data,reuse = True), feed_dict = {noisey_fuel_data:Sample_z})\n",
        "    \n",
        "    sample.append(gen_sample)\n",
        "    \n",
        "   \n",
        "\n",
        "   \n",
        "  saver.save(sess,'/content/drive/My Drive/Machine_Learning/CSE499VTS/model/Model_test.ckpt')"
      ],
      "execution_count": 0,
      "outputs": [
        {
          "output_type": "stream",
          "text": [
            "on Epoch0\n",
            "on D_loss6.92888\n",
            "on G_loss0.0250245\n",
            "on Epoch1\n",
            "on D_loss6.93327\n",
            "on G_loss0.00551016\n",
            "on Epoch2\n",
            "on D_loss4.49537\n",
            "on G_loss0.0514245\n",
            "on Epoch3\n",
            "on D_loss5.04591\n",
            "on G_loss0.154278\n",
            "on Epoch4\n",
            "on D_loss2.93112\n",
            "on G_loss0.267215\n",
            "on Epoch5\n",
            "on D_loss1.36304\n",
            "on G_loss0.372273\n",
            "on Epoch6\n",
            "on D_loss0.305979\n",
            "on G_loss0.385654\n",
            "on Epoch7\n",
            "on D_loss0.327912\n",
            "on G_loss0.277802\n",
            "on Epoch8\n",
            "on D_loss-0.291901\n",
            "on G_loss-0.379885\n",
            "on Epoch9\n",
            "on D_loss0.167407\n",
            "on G_loss-0.621882\n",
            "on Epoch10\n",
            "on D_loss0.30118\n",
            "on G_loss-0.814286\n",
            "on Epoch11\n",
            "on D_loss0.442726\n",
            "on G_loss-0.940229\n",
            "on Epoch12\n",
            "on D_loss0.710927\n",
            "on G_loss-1.03334\n",
            "on Epoch13\n",
            "on D_loss0.597829\n",
            "on G_loss-1.18364\n",
            "on Epoch14\n",
            "on D_loss0.806725\n",
            "on G_loss-1.41155\n",
            "on Epoch15\n",
            "on D_loss0.578278\n",
            "on G_loss-1.4973\n",
            "on Epoch16\n",
            "on D_loss0.55887\n",
            "on G_loss-1.55378\n",
            "on Epoch17\n",
            "on D_loss0.559403\n",
            "on G_loss-1.57576\n",
            "on Epoch18\n",
            "on D_loss0.508253\n",
            "on G_loss-1.57058\n",
            "on Epoch19\n",
            "on D_loss0.452353\n",
            "on G_loss-1.54901\n",
            "on Epoch20\n",
            "on D_loss0.437946\n",
            "on G_loss-1.51891\n",
            "on Epoch21\n",
            "on D_loss0.426096\n",
            "on G_loss-1.47381\n",
            "on Epoch22\n",
            "on D_loss0.425557\n",
            "on G_loss-1.41985\n",
            "on Epoch23\n",
            "on D_loss0.423765\n",
            "on G_loss-1.35291\n",
            "on Epoch24\n",
            "on D_loss0.421162\n",
            "on G_loss-1.27595\n",
            "on Epoch25\n",
            "on D_loss0.418775\n",
            "on G_loss-1.18993\n",
            "on Epoch26\n",
            "on D_loss0.416062\n",
            "on G_loss-1.09994\n",
            "on Epoch27\n",
            "on D_loss0.412059\n",
            "on G_loss-1.00059\n",
            "on Epoch28\n",
            "on D_loss0.409899\n",
            "on G_loss-0.902575\n",
            "on Epoch29\n",
            "on D_loss0.408012\n",
            "on G_loss-0.806037\n",
            "on Epoch30\n",
            "on D_loss0.405761\n",
            "on G_loss-0.712767\n",
            "on Epoch31\n",
            "on D_loss0.405203\n",
            "on G_loss-0.631202\n",
            "on Epoch32\n",
            "on D_loss0.403303\n",
            "on G_loss-0.550065\n",
            "on Epoch33\n",
            "on D_loss0.402641\n",
            "on G_loss-0.482609\n",
            "on Epoch34\n",
            "on D_loss0.402337\n",
            "on G_loss-0.416527\n",
            "on Epoch35\n",
            "on D_loss0.420218\n",
            "on G_loss-0.400442\n",
            "on Epoch36\n",
            "on D_loss0.401538\n",
            "on G_loss-0.383025\n",
            "on Epoch37\n",
            "on D_loss0.401176\n",
            "on G_loss-0.313723\n",
            "on Epoch38\n",
            "on D_loss0.40107\n",
            "on G_loss-0.251842\n",
            "on Epoch39\n",
            "on D_loss0.400999\n",
            "on G_loss-0.187624\n",
            "on Epoch40\n",
            "on D_loss0.400942\n",
            "on G_loss-0.0876554\n",
            "on Epoch41\n",
            "on D_loss2.27411\n",
            "on G_loss0.000715785\n",
            "on Epoch42\n",
            "on D_loss3.92648\n",
            "on G_loss0.0905621\n",
            "on Epoch43\n",
            "on D_loss6.32898\n",
            "on G_loss0.207199\n",
            "on Epoch44\n",
            "on D_loss9.37949\n",
            "on G_loss0.24989\n",
            "on Epoch45\n",
            "on D_loss9.67121\n",
            "on G_loss0.21327\n",
            "on Epoch46\n",
            "on D_loss9.47435\n",
            "on G_loss0.1795\n",
            "on Epoch47\n",
            "on D_loss9.55648\n",
            "on G_loss0.147172\n",
            "on Epoch48\n",
            "on D_loss9.50492\n",
            "on G_loss0.115711\n",
            "on Epoch49\n",
            "on D_loss9.42284\n",
            "on G_loss0.0846982\n",
            "on Epoch50\n",
            "on D_loss9.35567\n",
            "on G_loss0.0561774\n",
            "on Epoch51\n",
            "on D_loss9.26712\n",
            "on G_loss0.0312148\n",
            "on Epoch52\n",
            "on D_loss9.03395\n",
            "on G_loss0.0127139\n",
            "on Epoch53\n",
            "on D_loss9.11043\n",
            "on G_loss0.000880912\n",
            "on Epoch54\n",
            "on D_loss9.06192\n",
            "on G_loss-0.00469354\n",
            "on Epoch55\n",
            "on D_loss8.9915\n",
            "on G_loss-0.00680256\n",
            "on Epoch56\n",
            "on D_loss8.73288\n",
            "on G_loss-0.00776302\n",
            "on Epoch57\n",
            "on D_loss8.63906\n",
            "on G_loss-0.00788088\n",
            "on Epoch58\n",
            "on D_loss8.6348\n",
            "on G_loss-0.00907512\n",
            "on Epoch59\n",
            "on D_loss8.49768\n",
            "on G_loss-0.00963542\n",
            "on Epoch60\n",
            "on D_loss8.24653\n",
            "on G_loss-0.0102045\n",
            "on Epoch61\n",
            "on D_loss8.33905\n",
            "on G_loss-0.0111709\n",
            "on Epoch62\n",
            "on D_loss8.25108\n",
            "on G_loss-0.0134346\n",
            "on Epoch63\n",
            "on D_loss7.98914\n",
            "on G_loss-0.0120966\n",
            "on Epoch64\n",
            "on D_loss8.23298\n",
            "on G_loss-0.0132491\n",
            "on Epoch65\n",
            "on D_loss7.81494\n",
            "on G_loss-0.0152689\n",
            "on Epoch66\n",
            "on D_loss8.04377\n",
            "on G_loss-0.0155355\n",
            "on Epoch67\n",
            "on D_loss7.98781\n",
            "on G_loss-0.0153583\n",
            "on Epoch68\n",
            "on D_loss7.42383\n",
            "on G_loss-0.017674\n",
            "on Epoch69\n",
            "on D_loss7.0878\n",
            "on G_loss-0.0183503\n",
            "on Epoch70\n",
            "on D_loss6.88443\n",
            "on G_loss-0.0209437\n",
            "on Epoch71\n",
            "on D_loss7.65314\n",
            "on G_loss-0.0200762\n",
            "on Epoch72\n",
            "on D_loss6.90575\n",
            "on G_loss-0.018946\n",
            "on Epoch73\n",
            "on D_loss7.52205\n",
            "on G_loss-0.0193586\n",
            "on Epoch74\n",
            "on D_loss7.16016\n",
            "on G_loss-0.0203079\n",
            "on Epoch75\n",
            "on D_loss6.43516\n",
            "on G_loss-0.023445\n",
            "on Epoch76\n",
            "on D_loss7.0506\n",
            "on G_loss-0.0239386\n",
            "on Epoch77\n",
            "on D_loss7.20335\n",
            "on G_loss-0.0252666\n",
            "on Epoch78\n",
            "on D_loss7.22976\n",
            "on G_loss-0.0236177\n",
            "on Epoch79\n",
            "on D_loss6.84537\n",
            "on G_loss-0.0243114\n",
            "on Epoch80\n",
            "on D_loss6.19423\n",
            "on G_loss-0.0298401\n",
            "on Epoch81\n",
            "on D_loss6.83415\n",
            "on G_loss-0.0286562\n",
            "on Epoch82\n",
            "on D_loss6.2773\n",
            "on G_loss-0.0275089\n",
            "on Epoch83\n",
            "on D_loss6.48546\n",
            "on G_loss-0.0285328\n",
            "on Epoch84\n",
            "on D_loss6.73725\n",
            "on G_loss-0.0289645\n",
            "on Epoch85\n",
            "on D_loss5.99734\n",
            "on G_loss-0.0302455\n",
            "on Epoch86\n",
            "on D_loss6.73788\n",
            "on G_loss-0.0302851\n",
            "on Epoch87\n",
            "on D_loss6.48115\n",
            "on G_loss-0.0303016\n",
            "on Epoch88\n",
            "on D_loss7.09198\n",
            "on G_loss-0.0319497\n",
            "on Epoch89\n",
            "on D_loss7.19558\n",
            "on G_loss-0.0315118\n",
            "on Epoch90\n",
            "on D_loss6.44337\n",
            "on G_loss-0.0308661\n",
            "on Epoch91\n",
            "on D_loss6.76246\n",
            "on G_loss-0.0346442\n",
            "on Epoch92\n",
            "on D_loss7.08334\n",
            "on G_loss-0.0349548\n",
            "on Epoch93\n",
            "on D_loss6.29493\n",
            "on G_loss-0.0365443\n",
            "on Epoch94\n",
            "on D_loss7.16726\n",
            "on G_loss-0.0361383\n",
            "on Epoch95\n",
            "on D_loss6.19285\n",
            "on G_loss-0.0371992\n",
            "on Epoch96\n",
            "on D_loss6.15466\n",
            "on G_loss-0.0378413\n",
            "on Epoch97\n",
            "on D_loss6.15488\n",
            "on G_loss-0.0369008\n",
            "on Epoch98\n",
            "on D_loss7.30207\n",
            "on G_loss-0.0346244\n",
            "on Epoch99\n",
            "on D_loss6.67575\n",
            "on G_loss-0.0302823\n",
            "on Epoch100\n",
            "on D_loss6.50122\n",
            "on G_loss-0.0238683\n",
            "on Epoch101\n",
            "on D_loss7.02922\n",
            "on G_loss-0.014594\n",
            "on Epoch102\n",
            "on D_loss7.54141\n",
            "on G_loss-0.00190259\n",
            "on Epoch103\n",
            "on D_loss7.82757\n",
            "on G_loss0.0136992\n",
            "on Epoch104\n",
            "on D_loss9.65541\n",
            "on G_loss0.00590269\n",
            "on Epoch105\n",
            "on D_loss9.61234\n",
            "on G_loss8.13375e-05\n",
            "on Epoch106\n",
            "on D_loss9.49374\n",
            "on G_loss-0.00201514\n",
            "on Epoch107\n",
            "on D_loss9.50601\n",
            "on G_loss-0.00266407\n",
            "on Epoch108\n",
            "on D_loss9.43671\n",
            "on G_loss-0.00277854\n",
            "on Epoch109\n",
            "on D_loss9.60245\n",
            "on G_loss-0.00301451\n",
            "on Epoch110\n",
            "on D_loss9.42052\n",
            "on G_loss-0.00311662\n",
            "on Epoch111\n",
            "on D_loss9.53307\n",
            "on G_loss-0.00336094\n",
            "on Epoch112\n",
            "on D_loss9.28343\n",
            "on G_loss-0.00344878\n",
            "on Epoch113\n",
            "on D_loss9.31446\n",
            "on G_loss-0.0038446\n",
            "on Epoch114\n",
            "on D_loss9.32915\n",
            "on G_loss-0.00429115\n",
            "on Epoch115\n",
            "on D_loss9.18286\n",
            "on G_loss-0.00415621\n",
            "on Epoch116\n",
            "on D_loss9.06375\n",
            "on G_loss-0.00496059\n",
            "on Epoch117\n",
            "on D_loss9.15902\n",
            "on G_loss-0.00480581\n",
            "on Epoch118\n",
            "on D_loss9.17024\n",
            "on G_loss-0.0046135\n",
            "on Epoch119\n",
            "on D_loss9.07713\n",
            "on G_loss-0.00509595\n",
            "on Epoch120\n",
            "on D_loss9.03515\n",
            "on G_loss-0.00539222\n",
            "on Epoch121\n",
            "on D_loss8.743\n",
            "on G_loss-0.00556883\n",
            "on Epoch122\n",
            "on D_loss8.99661\n",
            "on G_loss-0.00716745\n",
            "on Epoch123\n",
            "on D_loss8.82018\n",
            "on G_loss-0.00618568\n",
            "on Epoch124\n",
            "on D_loss11.4402\n",
            "on G_loss-0.00668049\n",
            "on Epoch125\n",
            "on D_loss8.63075\n",
            "on G_loss-0.00710508\n",
            "on Epoch126\n",
            "on D_loss8.44721\n",
            "on G_loss-0.00741799\n",
            "on Epoch127\n",
            "on D_loss8.36381\n",
            "on G_loss-0.00768502\n",
            "on Epoch128\n",
            "on D_loss8.55071\n",
            "on G_loss-0.00831949\n",
            "on Epoch129\n",
            "on D_loss8.5744\n",
            "on G_loss-0.00915955\n",
            "on Epoch130\n",
            "on D_loss8.29614\n",
            "on G_loss-0.00920943\n",
            "on Epoch131\n",
            "on D_loss8.18243\n",
            "on G_loss-0.00914666\n",
            "on Epoch132\n",
            "on D_loss8.28673\n",
            "on G_loss-0.00979314\n",
            "on Epoch133\n",
            "on D_loss8.00707\n",
            "on G_loss-0.0106089\n",
            "on Epoch134\n",
            "on D_loss8.33064\n",
            "on G_loss-0.0120904\n",
            "on Epoch135\n",
            "on D_loss8.05054\n",
            "on G_loss-0.0114981\n",
            "on Epoch136\n",
            "on D_loss8.50071\n",
            "on G_loss-0.0118207\n",
            "on Epoch137\n",
            "on D_loss7.17019\n",
            "on G_loss-0.0123432\n",
            "on Epoch138\n",
            "on D_loss7.39381\n",
            "on G_loss-0.0126447\n",
            "on Epoch139\n",
            "on D_loss7.76604\n",
            "on G_loss-0.0130796\n",
            "on Epoch140\n",
            "on D_loss7.76966\n",
            "on G_loss-0.0137268\n",
            "on Epoch141\n",
            "on D_loss7.66193\n",
            "on G_loss-0.0117229\n",
            "on Epoch142\n",
            "on D_loss7.27017\n",
            "on G_loss-0.0132563\n",
            "on Epoch143\n",
            "on D_loss7.86047\n",
            "on G_loss-0.0149072\n",
            "on Epoch144\n",
            "on D_loss7.05468\n",
            "on G_loss-0.0161754\n",
            "on Epoch145\n",
            "on D_loss7.60113\n",
            "on G_loss-0.0174157\n",
            "on Epoch146\n",
            "on D_loss7.08721\n",
            "on G_loss-0.0173831\n",
            "on Epoch147\n",
            "on D_loss7.5053\n",
            "on G_loss-0.0199661\n",
            "on Epoch148\n",
            "on D_loss7.17421\n",
            "on G_loss-0.02014\n",
            "on Epoch149\n",
            "on D_loss7.31096\n",
            "on G_loss-0.0208814\n"
          ],
          "name": "stdout"
        }
      ]
    },
    {
      "metadata": {
        "id": "ak_bmzay99Lr",
        "colab_type": "code",
        "outputId": "9c9e706f-b7c0-4441-f05d-66719f8644dd",
        "colab": {
          "base_uri": "https://localhost:8080/",
          "height": 375
        }
      },
      "cell_type": "code",
      "source": [
        "df = pd.DataFrame(data=sample[149])\n",
        "sns.distplot(df,bins=30)\n",
        "sns.distplot(Sample_z,bins=30)"
      ],
      "execution_count": 0,
      "outputs": [
        {
          "output_type": "execute_result",
          "data": {
            "text/plain": [
              "<matplotlib.axes._subplots.AxesSubplot at 0x7fa117ea9c50>"
            ]
          },
          "metadata": {
            "tags": []
          },
          "execution_count": 35
        },
        {
          "output_type": "display_data",
          "data": {
            "image/png": "[encoded data removed]",
            "text/plain": [
              "<matplotlib.figure.Figure at 0x7fa11801e278>"
            ]
          },
          "metadata": {
            "tags": []
          }
        }
      ]
    },
    {
      "metadata": {
        "id": "XCbTQEE13Fhr",
        "colab_type": "code",
        "outputId": "f7750701-76ee-487b-cd19-190c0fde47d7",
        "colab": {
          "base_uri": "https://localhost:8080/",
          "height": 388
        }
      },
      "cell_type": "code",
      "source": [
        "min_max_scaler.fit(X_train)\n",
        "data1 = min_max_scaler.inverse_transform(sample[149])\n",
        "sns.distplot(data1,bins=30)"
      ],
      "execution_count": 0,
      "outputs": [
        {
          "output_type": "execute_result",
          "data": {
            "text/plain": [
              "<matplotlib.axes._subplots.AxesSubplot at 0x7fa110633080>"
            ]
          },
          "metadata": {
            "tags": []
          },
          "execution_count": 36
        },
        {
          "output_type": "display_data",
          "data": {
            "image/png": "[encoded data removed]",
            "text/plain": [
              "<matplotlib.figure.Figure at 0x7fa11801e2e8>"
            ]
          },
          "metadata": {
            "tags": []
          }
        }
      ]
    },
    {
      "metadata": {
        "id": "VZCkCUr2QkSa",
        "colab_type": "code",
        "outputId": "ca02eb23-c86b-445d-b37c-26b248e1d8eb",
        "colab": {
          "base_uri": "https://localhost:8080/",
          "height": 358
        }
      },
      "cell_type": "code",
      "source": [
        "dk =pd.DataFrame(data1)  \n",
        "t = dk.index\n",
        "s = data1\n",
        "line, = plt.plot(t, s, lw=1)"
      ],
      "execution_count": 0,
      "outputs": [
        {
          "output_type": "display_data",
          "data": {
            "image/png": "[encoded data removed]",
            "text/plain": [
              "<matplotlib.figure.Figure at 0x7fa110583a58>"
            ]
          },
          "metadata": {
            "tags": []
          }
        }
      ]
    },
    {
      "metadata": {
        "id": "tSnjnR1InCqf",
        "colab_type": "code",
        "outputId": "e5cf48da-c4bd-404c-80ae-b358050ea835",
        "colab": {
          "base_uri": "https://localhost:8080/",
          "height": 364
        }
      },
      "cell_type": "code",
      "source": [
        "plt.scatter(dk[0], df.index)"
      ],
      "execution_count": 0,
      "outputs": [
        {
          "output_type": "execute_result",
          "data": {
            "text/plain": [
              "<matplotlib.collections.PathCollection at 0x7fa11081df98>"
            ]
          },
          "metadata": {
            "tags": []
          },
          "execution_count": 38
        },
        {
          "output_type": "display_data",
          "data": {
            "image/png": "[encoded data removed]",
            "text/plain": [
              "<matplotlib.figure.Figure at 0x7fa1103ff9b0>"
            ]
          },
          "metadata": {
            "tags": []
          }
        }
      ]
    },
    {
      "metadata": {
        "id": "19k2Isj_tI5B",
        "colab_type": "text"
      },
      "cell_type": "markdown",
      "source": [
        "***Save model***"
      ]
    },
    {
      "metadata": {
        "id": "mlzWnnDgtKgc",
        "colab_type": "code",
        "colab": {}
      },
      "cell_type": "code",
      "source": [
        "saver = tf.train.Saver(var_list = g_vars)\n"
      ],
      "execution_count": 0,
      "outputs": []
    },
    {
      "metadata": {
        "id": "HWiYjFYXnN20",
        "colab_type": "code",
        "colab": {}
      },
      "cell_type": "code",
      "source": [
        "new_samples=[]"
      ],
      "execution_count": 0,
      "outputs": []
    },
    {
      "metadata": {
        "id": "ZBdB6cOv1BbL",
        "colab_type": "code",
        "outputId": "4f20c1f1-b60e-423e-e963-0e59e13b571f",
        "colab": {
          "base_uri": "https://localhost:8080/",
          "height": 34
        }
      },
      "cell_type": "code",
      "source": [
        "start = 0\n",
        "stop = 2\n",
        "\n",
        "with tf.Session() as sess:\n",
        "  saver.restore(sess,'/content/drive/My Drive/Machine_Learning/CSE499VTS/model/Model_test.ckpt')\n",
        "  \n",
        "  for x in range(100):\n",
        "    sample_z = df_normalized_test_noise.values[0:150]\n",
        "    samples = sample_z\n",
        "    gen_sample = sess.run(generator(noisey_fuel_data,reuse = True), feed_dict = {noisey_fuel_data:samples})\n",
        "  \n",
        "    new_samples.append(gen_sample)\n",
        "    start = start +1\n",
        "  "
      ],
      "execution_count": 0,
      "outputs": [
        {
          "output_type": "stream",
          "text": [
            "INFO:tensorflow:Restoring parameters from /content/drive/My Drive/Machine_Learning/CSE499VTS/model/Model_test.ckpt\n"
          ],
          "name": "stdout"
        }
      ]
    },
    {
      "metadata": {
        "id": "KFSShwCI7gQU",
        "colab_type": "code",
        "outputId": "983fb372-366c-4a33-f9c0-b7cbba29d0d3",
        "colab": {
          "base_uri": "https://localhost:8080/",
          "height": 388
        }
      },
      "cell_type": "code",
      "source": [
        "min_max_scaler.fit(X_train)\n",
        "data2 = min_max_scaler.inverse_transform(new_samples[50])\n",
        "sns.distplot(data2,bins=30)\n"
      ],
      "execution_count": 0,
      "outputs": [
        {
          "output_type": "execute_result",
          "data": {
            "text/plain": [
              "<matplotlib.axes._subplots.AxesSubplot at 0x7fa1107f2cc0>"
            ]
          },
          "metadata": {
            "tags": []
          },
          "execution_count": 42
        },
        {
          "output_type": "display_data",
          "data": {
            "image/png": "[encoded data removed]",
            "text/plain": [
              "<matplotlib.figure.Figure at 0x7fa1107deb00>"
            ]
          },
          "metadata": {
            "tags": []
          }
        }
      ]
    },
    {
      "metadata": {
        "id": "ZrSafoW6q9Vw",
        "colab_type": "code",
        "outputId": "fa9b637e-e6c6-4899-ff1e-aadd575feb0b",
        "colab": {
          "base_uri": "https://localhost:8080/",
          "height": 364
        }
      },
      "cell_type": "code",
      "source": [
        "data23 =pd.DataFrame(data2)  \n",
        "\n",
        "plt.scatter(data23[0], data23.index)"
      ],
      "execution_count": 0,
      "outputs": [
        {
          "output_type": "execute_result",
          "data": {
            "text/plain": [
              "<matplotlib.collections.PathCollection at 0x7fa10f1eecc0>"
            ]
          },
          "metadata": {
            "tags": []
          },
          "execution_count": 43
        },
        {
          "output_type": "display_data",
          "data": {
            "image/png": "[encoded data removed]",
            "text/plain": [
              "<matplotlib.figure.Figure at 0x7fa110a153c8>"
            ]
          },
          "metadata": {
            "tags": []
          }
        }
      ]
    },
    {
      "metadata": {
        "id": "8TiTq2CnLh_Z",
        "colab_type": "text"
      },
      "cell_type": "markdown",
      "source": [
        ""
      ]
    }
  ]
}